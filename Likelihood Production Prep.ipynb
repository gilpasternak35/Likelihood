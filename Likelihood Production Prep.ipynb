{
 "cells": [
  {
   "cell_type": "code",
   "execution_count": 14,
   "metadata": {},
   "outputs": [],
   "source": [
    "# Imports for project purposes\n",
    "# Full Project imports\n",
    "import pandas as pd\n",
    "import math as mt\n",
    "import dateutil\n",
    "from datetime import datetime, timedelta\n",
    "import requests as rd\n",
    "import numpy as np\n",
    "from sklearn import neighbors, decomposition\n",
    "from sklearn.decomposition import PCA\n",
    "from sklearn.preprocessing import StandardScaler\n",
    "import smtplib\n",
    "import scipy.stats as st\n",
    "import os\n",
    "from datetime import datetime, timedelta\n",
    "from pandas.api.types import is_numeric_dtype\n",
    "import copy"
   ]
  },
  {
   "cell_type": "code",
   "execution_count": 24,
   "metadata": {},
   "outputs": [],
   "source": [
    "class Bootstrap:\n",
    "    '''A class for returning anomaly of categorical column counts, utilizing the metric of surprise (entropy)'''\n",
    "    data = None\n",
    "    trainDf = None\n",
    "    testDf = None\n",
    "    timestamp = None\n",
    "    \n",
    "    # Overloaded constructor in case user doesn't want to fit data right away\n",
    "    def __init__(self, timeCol = 'date_time'):\n",
    "        '''\n",
    "        Constructor which does not require immediate fit to model, merely initializes timestamp if given\n",
    "        \n",
    "        Parameters\n",
    "        ----------\n",
    "        timeCol: String - The name of the primary TimeStamp column\n",
    "        '''\n",
    "        # Initializing time\n",
    "        timestamp = timeCol\n",
    "    \n",
    "    \n",
    "    # Fot fitting data right away\n",
    "    def __init__(self,dataLink,dataType, timeCol = \"date_time\"):\n",
    "        '''\n",
    "        Overloaded constructor for fitting to model immediately\n",
    "\n",
    "        Parameters\n",
    "        ----------\n",
    "        dataLink: String - A link to a dataset that is either in html (website), Microsoft Excel, or CSV format\n",
    "        category: String - The type of dataset given(html, excel, or csv)\n",
    "        timeCol: String - The name of the primary TimeStamp column\n",
    "        '''\n",
    "        timestamp = timeCol\n",
    "        data = fit(dataLink, dataType)\n",
    "    \n",
    "    \n",
    "    # Loading data into project\n",
    "    def fit(self, dataset_link, category):\n",
    "        '''\n",
    "        Loads a DataSet, thus Fitting the Bootstrap Module onto the Dataset\n",
    "        \n",
    "        Parameters\n",
    "        ----------\n",
    "        dataLink: String - A link to a dataset that is either in html (website), Microsoft Excel, or CSV format\n",
    "        category: String - The type of dataset given(html, excel, or csv)\n",
    "        '''\n",
    "        # Fitting onto specific Data set type    \n",
    "        if category == \"html\":\n",
    "            self.data = pd.read_html(dataset_link)\n",
    "        else:\n",
    "            if category == \"excel\":\n",
    "                self.data = pd.read_excel(dataset_link)\n",
    "            else:\n",
    "                self.data = pd.read_csv(dataset_link)\n",
    "    \n",
    "    \n",
    "    # Converts Timetamp column of DataFrame to a legitimate timestamp\n",
    "    def convertToDateTime(self,timestamp):\n",
    "        '''\n",
    "        Converts a chosen timestamp column from string to date/time, making the modifications both to the fitted\n",
    "        Data Frame and returning the new Data Frame\n",
    "        \n",
    "        Parameters\n",
    "        ----------\n",
    "        timestamp: String - The name of the Timestamp column that needs conversion\n",
    "        \n",
    "        \n",
    "        Returns\n",
    "        -------\n",
    "        data : pandas.DataFrame\n",
    "            Returns the locally the entire DataFrame with the modified Timestamp column\n",
    "        '''\n",
    "        self.data[timestamp] =  pd.to_datetime(self.data[timestamp], format='%Y%m%d %H:%M:%S')\n",
    "        return self.data\n",
    "    \n",
    "    \n",
    "    # Splits data into train and test set based on date/time\n",
    "    def split_train_test(batchHours = 24*7):\n",
    "        '''\n",
    "        Splits Data into a train and test set, held within the object\n",
    "        \n",
    "        Parameters\n",
    "        ----------\n",
    "        batchHours: Integer - Size of the test set. Default is one week.\n",
    "        '''\n",
    "        maxTs = max(df[timestamp])\n",
    "        batchTs = maxTs - timedelta(hours = batchHours)\n",
    "        testDf = df[df[timestamp] > batchTs]\n",
    "        trainDf = df[df[timestamp] < batchTs]\n",
    "\n"
   ]
  },
  {
   "cell_type": "code",
   "execution_count": 3,
   "metadata": {},
   "outputs": [],
   "source": [
    "\"\"\"\n",
    "\"\"\"\n",
    "class TimeSeries:\n",
    "    def __init__(self,x):\n",
    "        print(x)"
   ]
  },
  {
   "cell_type": "code",
   "execution_count": 4,
   "metadata": {},
   "outputs": [],
   "source": [
    "\"\"\"\n",
    "\"\"\"\n",
    "class KernelPCA:\n",
    "    def __init__(self,x):\n",
    "        print(x)"
   ]
  },
  {
   "cell_type": "code",
   "execution_count": 5,
   "metadata": {},
   "outputs": [],
   "source": [
    "\"\"\"\n",
    "\"\"\"\n",
    "class Kernel:\n",
    "    def __init__(self,x):\n",
    "        print(x)"
   ]
  },
  {
   "cell_type": "code",
   "execution_count": 6,
   "metadata": {},
   "outputs": [],
   "source": [
    "\"\"\"\n",
    "\"\"\"\n",
    "class PCA:\n",
    "    def __init__(self,x):\n",
    "        print(x)"
   ]
  },
  {
   "cell_type": "code",
   "execution_count": 7,
   "metadata": {},
   "outputs": [],
   "source": [
    "\"\"\"\n",
    "\"\"\"\n",
    "class Categorical:\n",
    "    def __init__(self,x):\n",
    "        print(x)"
   ]
  },
  {
   "cell_type": "code",
   "execution_count": 12,
   "metadata": {},
   "outputs": [],
   "source": [
    "\"\"\"\n",
    "\"\"\"\n",
    "class MultiDimCategorical:\n",
    "    def __init__(self,x):\n",
    "        print(x)"
   ]
  },
  {
   "cell_type": "code",
   "execution_count": 11,
   "metadata": {},
   "outputs": [],
   "source": [
    "\"\"\"\n",
    "\"\"\"\n",
    "class RunInitial:\n",
    "    def __init__(self,x):\n",
    "        print(x)"
   ]
  },
  {
   "cell_type": "code",
   "execution_count": 13,
   "metadata": {},
   "outputs": [],
   "source": [
    "\"\"\"\n",
    "\"\"\"\n",
    "class Report:\n",
    "    def __init__(self,x):\n",
    "        print(x)"
   ]
  },
  {
   "cell_type": "code",
   "execution_count": null,
   "metadata": {},
   "outputs": [],
   "source": []
  }
 ],
 "metadata": {
  "kernelspec": {
   "display_name": "Python 3",
   "language": "python",
   "name": "python3"
  },
  "language_info": {
   "codemirror_mode": {
    "name": "ipython",
    "version": 3
   },
   "file_extension": ".py",
   "mimetype": "text/x-python",
   "name": "python",
   "nbconvert_exporter": "python",
   "pygments_lexer": "ipython3",
   "version": "3.7.6"
  }
 },
 "nbformat": 4,
 "nbformat_minor": 4
}
